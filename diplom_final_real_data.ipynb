{
 "cells": [
  {
   "cell_type": "code",
   "execution_count": 4,
   "metadata": {},
   "outputs": [],
   "source": [
    "import pysubgroup as ps\n",
    "from sklearn.datasets import make_classification\n",
    "import pandas as pd\n",
    "import numpy as np\n",
    "from sklearn.linear_model import LogisticRegression\n",
    "import seaborn as sns\n",
    "import matplotlib.pyplot as plt\n",
    "%matplotlib inline\n",
    "\n",
    "final_data = pd.read_csv('final_data.csv')\n",
    "prepared_data = final_data\n",
    "prepared_data['z'] = prepared_data['y']*prepared_data['treatment'] + (1-prepared_data['y'])*(1-prepared_data['treatment'])\n",
    "prepared_data.treatment.value_counts()\n",
    "prepared_data.y.value_counts()\n",
    "prepared_data.z.value_counts()\n",
    "\n",
    "df = prepared_data\n",
    "plt.figure(figsize=(6, 6))\n",
    "sns.distplot(df.y,kde=False)\n",
    "sns.distplot(df.treatment,kde=False)\n",
    "\n",
    "qfs = [ps.ChiSquaredQF(), ps.StandardQF(0.1), ps.StandardQF(0.3)]\n",
    "qfs_names = ['ChiSquaredQF', 'StandardQF01', 'StandardQF03']\n",
    "zip_qf = list(zip(qfs,qfs_names))\n",
    "\n",
    "dfs = {}\n",
    "for qf,qf_name in zip_qf:\n",
    "    target = ps.BinaryTarget('z',target_value = True)\n",
    "    searchspace = ps.create_selectors(df, ignore=['y','treatment','z'])\n",
    "    task = ps.SubgroupDiscoveryTask (df, target, searchspace, result_set_size=10, depth=3, qf=qf)\n",
    "    result = ps.SimpleDFS().execute(task)\n",
    "    dfs[qf_name]=result.to_dataframe()\n",
    "    \n",
    "#Хи квадрат функция качества\n",
    "df[(df['0.33q<=recency<=0.66q'] == 0) & (df['lifetime>0.66q'] == 0) & (df['recency>0.66q'] ==1)].y.value_counts()\n",
    "plt.figure(figsize=(4, 6))\n",
    "sns.barplot(x = [1,0],y=df[(df['0.33q<=recency<=0.66q'] == 0) & (df['lifetime>0.66q'] == 0) & (df['recency>0.66q'] ==1)].treatment.value_counts())\n",
    "\n",
    "#Стандартная функция качества со взвешиванием 0.1\n",
    "plt.figure(figsize=(4, 6))\n",
    "sns.barplot(x = [1,0],y=df[(df['avgcart<0.33q'] == 0) & (df['recency>0.66q']==0) & (df['sum0>0.66q'] == 1)].treatment.value_counts())\n",
    "\n",
    "# лучшая подгруппа со стандартной функцией качества с коэффициентом взвешивания = 0.3\n",
    "df[(df['recency>0.66q']==0) & (df['sum0<0.33q'] == 0) & (df['sum0>0.66q'] == 1)].treatment.value_counts()\n",
    "\n",
    "plt.figure(figsize=(4, 6))\n",
    "sns.barplot(x = [1,0],y=df[(df['recency>0.66q']==0) & (df['sum0<0.33q'] == 0) & (df['sum0>0.66q'] == 1)].treatment.value_counts())\n",
    "\n",
    "from sklearn.linear_model import LogisticRegression\n",
    "model = LogisticRegression()\n",
    "model.fit(df.drop(columns=['z','y','treatment']),df.y)\n",
    "model.coef_[0]\n",
    "\n",
    "df.drop(columns=['z','y','treatment']).columns\n",
    "cols = df.columns\n",
    "coefs = pd.DataFrame(list(zip(np.abs(model.coef_[0]),cols)),columns=['value','column'])\n",
    "coefs.sort_values(by='value',ascending=False)\n",
    "\n",
    "plt.figure(figsize=(10, 10))\n",
    "sns.barplot(x = 'value',y='column',data= coefs)"
   ]
  },
  {
   "cell_type": "code",
   "execution_count": null,
   "metadata": {},
   "outputs": [],
   "source": [
    "import pysubgroup as ps\n",
    "from sklearn.datasets import make_classification\n",
    "import pandas as pd\n",
    "import numpy as np\n",
    "from sklearn.linear_model import LogisticRegression\n",
    "import seaborn as sns\n",
    "import matplotlib.pyplot as plt\n",
    "%matplotlib inline"
   ]
  },
  {
   "cell_type": "code",
   "execution_count": 5,
   "metadata": {},
   "outputs": [],
   "source": [
    "final_data = pd.read_csv('final_data.csv')\n",
    "prepared_data = final_data\n",
    "prepared_data['z'] = prepared_data['y']*prepared_data['treatment'] + (1-prepared_data['y'])*(1-prepared_data['treatment'])\n",
    "prepared_data.treatment.value_counts()\n",
    "prepared_data.y.value_counts()\n",
    "prepared_data.z.value_counts()"
   ]
  },
  {
   "cell_type": "code",
   "execution_count": 6,
   "metadata": {},
   "outputs": [],
   "source": []
  },
  {
   "cell_type": "code",
   "execution_count": 7,
   "metadata": {},
   "outputs": [
    {
     "data": {
      "text/plain": [
       "1    9920\n",
       "0    1418\n",
       "Name: treatment, dtype: int64"
      ]
     },
     "execution_count": 7,
     "metadata": {},
     "output_type": "execute_result"
    }
   ],
   "source": [
    "df = prepared_data"
   ]
  },
  {
   "cell_type": "code",
   "execution_count": 12,
   "metadata": {},
   "outputs": [],
   "source": [
    "qfs = [ps.ChiSquaredQF(), ps.StandardQF(0.1), ps.StandardQF(0.3)]\n",
    "qfs_names = ['ChiSquaredQF', 'StandardQF01', 'StandardQF03']\n",
    "zip_qf = list(zip(qfs,qfs_names))"
   ]
  },
  {
   "cell_type": "code",
   "execution_count": 13,
   "metadata": {},
   "outputs": [],
   "source": [
    "dfs = {}\n",
    "for qf,qf_name in zip_qf:\n",
    "    target = ps.BinaryTarget('z',target_value = True)\n",
    "    searchspace = ps.create_selectors(df, ignore=['y','treatment','z'])\n",
    "    task = ps.SubgroupDiscoveryTask (df, target, searchspace, result_set_size=10, depth=3, qf=qf)\n",
    "    result = ps.SimpleDFS().execute(task)\n",
    "    dfs[qf_name]=result.to_dataframe()"
   ]
  },
  {
   "cell_type": "markdown",
   "metadata": {},
   "source": [
    "## Данные клиентов"
   ]
  },
  {
   "cell_type": "code",
   "execution_count": 121,
   "metadata": {},
   "outputs": [
    {
     "name": "stderr",
     "output_type": "stream",
     "text": [
      "D:\\Home\\sholodnickiy\\AppData\\Local\\Continuum\\anaconda3\\lib\\site-packages\\ipykernel_launcher.py:4: SettingWithCopyWarning: \n",
      "A value is trying to be set on a copy of a slice from a DataFrame.\n",
      "Try using .loc[row_indexer,col_indexer] = value instead\n",
      "\n",
      "See the caveats in the documentation: https://pandas.pydata.org/pandas-docs/stable/user_guide/indexing.html#returning-a-view-versus-a-copy\n",
      "  after removing the cwd from sys.path.\n"
     ]
    }
   ],
   "source": [
    "data = pd.read_csv('MobTargData-Original.csv',sep=';')\n",
    "work_columns = ['text1','text2','numbasket_firsttwoweeks','numbasket_secondtwoweeks','sum_firsttwoweeks','recency','lifetime','numbasket0','sum0','bigstoreshare']\n",
    "work_data = data[work_columns]\n",
    "work_data['avgcart'] = work_data['sum0'] / work_data['numbasket0']"
   ]
  },
  {
   "cell_type": "code",
   "execution_count": 129,
   "metadata": {},
   "outputs": [
    {
     "data": {
      "text/plain": [
       "9874.795979000002"
      ]
     },
     "execution_count": 129,
     "metadata": {},
     "output_type": "execute_result"
    }
   ],
   "source": [
    "np.quantile(work_data['sum0'],0.33)"
   ]
  },
  {
   "cell_type": "markdown",
   "metadata": {},
   "source": [
    "## ХИ квадрат"
   ]
  },
  {
   "cell_type": "code",
   "execution_count": 102,
   "metadata": {},
   "outputs": [
    {
     "data": {
      "text/plain": [
       "(0.33q<=recency<=0.66q==0 and lifetime>0.66q==0 and recency>0.66q==1)"
      ]
     },
     "execution_count": 102,
     "metadata": {},
     "output_type": "execute_result"
    }
   ],
   "source": [
    "dfs['ChiSquaredQF'].description.iloc[0]"
   ]
  },
  {
   "cell_type": "code",
   "execution_count": 117,
   "metadata": {},
   "outputs": [
    {
     "name": "stderr",
     "output_type": "stream",
     "text": [
      "D:\\Home\\sholodnickiy\\AppData\\Local\\Continuum\\anaconda3\\lib\\site-packages\\ipykernel_launcher.py:4: SettingWithCopyWarning: \n",
      "A value is trying to be set on a copy of a slice from a DataFrame.\n",
      "Try using .loc[row_indexer,col_indexer] = value instead\n",
      "\n",
      "See the caveats in the documentation: https://pandas.pydata.org/pandas-docs/stable/user_guide/indexing.html#returning-a-view-versus-a-copy\n",
      "  after removing the cwd from sys.path.\n"
     ]
    }
   ],
   "source": []
  },
  {
   "cell_type": "code",
   "execution_count": 122,
   "metadata": {},
   "outputs": [
    {
     "data": {
      "text/plain": [
       "318.65331655844153"
      ]
     },
     "execution_count": 122,
     "metadata": {},
     "output_type": "execute_result"
    }
   ],
   "source": []
  },
  {
   "cell_type": "code",
   "execution_count": 35,
   "metadata": {},
   "outputs": [
    {
     "data": {
      "text/plain": [
       "0    2583\n",
       "1    1041\n",
       "Name: y, dtype: int64"
      ]
     },
     "execution_count": 35,
     "metadata": {},
     "output_type": "execute_result"
    }
   ],
   "source": [
    "#Хи квадрат функция качества\n",
    "df[(df['0.33q<=recency<=0.66q'] == 0) & (df['lifetime>0.66q'] == 0) & (df['recency>0.66q'] ==1)].y.value_counts()"
   ]
  },
  {
   "cell_type": "code",
   "execution_count": 116,
   "metadata": {},
   "outputs": [
    {
     "data": {
      "text/plain": [
       "<matplotlib.axes._subplots.AxesSubplot at 0x132c26a1fd0>"
      ]
     },
     "execution_count": 116,
     "metadata": {},
     "output_type": "execute_result"
    },
    {
     "data": {
      "image/png": "[encoded data removed]",
      "text/plain": [
       "<Figure size 288x432 with 1 Axes>"
      ]
     },
     "metadata": {
      "needs_background": "light"
     },
     "output_type": "display_data"
    }
   ],
   "source": [
    "plt.figure(figsize=(4, 6))\n",
    "sns.barplot(x = [1,0],y=df[(df['0.33q<=recency<=0.66q'] == 0) & (df['lifetime>0.66q'] == 0) & (df['recency>0.66q'] ==1)].treatment.value_counts())\n"
   ]
  },
  {
   "cell_type": "markdown",
   "metadata": {},
   "source": [
    "## конец ХИ квадрат"
   ]
  },
  {
   "cell_type": "markdown",
   "metadata": {},
   "source": [
    "## Стандартная функция с 0.1 взвешиванием"
   ]
  },
  {
   "cell_type": "code",
   "execution_count": 57,
   "metadata": {},
   "outputs": [
    {
     "data": {
      "text/plain": [
       "(avgcart<0.33q==0 and recency>0.66q==0 and sum0>0.66q==1)"
      ]
     },
     "execution_count": 57,
     "metadata": {},
     "output_type": "execute_result"
    }
   ],
   "source": [
    "dfs['StandardQF01'].description.iloc[0]"
   ]
  },
  {
   "cell_type": "code",
   "execution_count": null,
   "metadata": {},
   "outputs": [],
   "source": []
  },
  {
   "cell_type": "code",
   "execution_count": 34,
   "metadata": {},
   "outputs": [
    {
     "data": {
      "text/plain": [
       "1    2976\n",
       "0     130\n",
       "Name: y, dtype: int64"
      ]
     },
     "execution_count": 34,
     "metadata": {},
     "output_type": "execute_result"
    }
   ],
   "source": [
    "df[(df['avgcart<0.33q'] == 0) & (df['recency>0.66q']==0) & (df['sum0>0.66q'] == 1)].y.value_counts()"
   ]
  },
  {
   "cell_type": "code",
   "execution_count": 135,
   "metadata": {},
   "outputs": [
    {
     "data": {
      "text/plain": [
       "<matplotlib.axes._subplots.AxesSubplot at 0x132c2823cf8>"
      ]
     },
     "execution_count": 135,
     "metadata": {},
     "output_type": "execute_result"
    },
    {
     "data": {
      "image/png": "[encoded data removed]",
      "text/plain": [
       "<Figure size 288x432 with 1 Axes>"
      ]
     },
     "metadata": {
      "needs_background": "light"
     },
     "output_type": "display_data"
    }
   ],
   "source": [
    "plt.figure(figsize=(4, 6))\n",
    "sns.barplot(x = [1,0],y=df[(df['avgcart<0.33q'] == 0) & (df['recency>0.66q']==0) & (df['sum0>0.66q'] == 1)].treatment.value_counts())\n"
   ]
  },
  {
   "cell_type": "markdown",
   "metadata": {},
   "source": [
    "## Конец Стандартная функция с 0.1 взвешиванием"
   ]
  },
  {
   "cell_type": "code",
   "execution_count": 71,
   "metadata": {},
   "outputs": [
    {
     "data": {
      "text/plain": [
       "(recency>0.66q==0 and sum0<0.33q==0 and sum0>0.66q==1)"
      ]
     },
     "execution_count": 71,
     "metadata": {},
     "output_type": "execute_result"
    }
   ],
   "source": [
    "dfs['StandardQF03'].description.iloc[1]"
   ]
  },
  {
   "cell_type": "code",
   "execution_count": 79,
   "metadata": {},
   "outputs": [
    {
     "data": {
      "text/plain": [
       "1    5732\n",
       "0     513\n",
       "Name: y, dtype: int64"
      ]
     },
     "execution_count": 79,
     "metadata": {},
     "output_type": "execute_result"
    }
   ],
   "source": [
    "df[(df['recency>0.66q']==0) & (df['sum0<0.33q'] == 0)].y.value_counts()"
   ]
  },
  {
   "cell_type": "code",
   "execution_count": 18,
   "metadata": {},
   "outputs": [
    {
     "data": {
      "text/plain": [
       "1    3066\n",
       "0     448\n",
       "Name: treatment, dtype: int64"
      ]
     },
     "execution_count": 18,
     "metadata": {},
     "output_type": "execute_result"
    }
   ],
   "source": [
    "# лучшая подгруппа со стандартной функцией качества с коэффициентом взвешивания = 0.3\n",
    "df[(df['recency>0.66q']==0) & (df['sum0<0.33q'] == 0) & (df['sum0>0.66q'] == 1)].treatment.value_counts()"
   ]
  },
  {
   "cell_type": "code",
   "execution_count": 15,
   "metadata": {},
   "outputs": [
    {
     "data": {
      "text/plain": [
       "<matplotlib.axes._subplots.AxesSubplot at 0x2bc668d4cc0>"
      ]
     },
     "execution_count": 15,
     "metadata": {},
     "output_type": "execute_result"
    },
    {
     "data": {
      "image/png": "[encoded data removed]",
      "text/plain": [
       "<Figure size 288x432 with 1 Axes>"
      ]
     },
     "metadata": {
      "needs_background": "light"
     },
     "output_type": "display_data"
    }
   ],
   "source": [
    "plt.figure(figsize=(4, 6))\n",
    "sns.barplot(x = [1,0],y=df[(df['recency>0.66q']==0) & (df['sum0<0.33q'] == 0) & (df['sum0>0.66q'] == 1)].treatment.value_counts())\n"
   ]
  },
  {
   "cell_type": "code",
   "execution_count": null,
   "metadata": {},
   "outputs": [],
   "source": []
  },
  {
   "cell_type": "code",
   "execution_count": 80,
   "metadata": {},
   "outputs": [
    {
     "data": {
      "text/plain": [
       "(1    9920\n",
       " 0    1418\n",
       " Name: treatment, dtype: int64, 1    7790\n",
       " 0    3548\n",
       " Name: y, dtype: int64)"
      ]
     },
     "execution_count": 80,
     "metadata": {},
     "output_type": "execute_result"
    }
   ],
   "source": [
    "df.treatment.value_counts() , df.y.value_counts()"
   ]
  },
  {
   "cell_type": "code",
   "execution_count": 33,
   "metadata": {},
   "outputs": [
    {
     "data": {
      "text/plain": [
       "1    9920\n",
       "0    1418\n",
       "Name: treatment, dtype: int64"
      ]
     },
     "execution_count": 33,
     "metadata": {},
     "output_type": "execute_result"
    }
   ],
   "source": [
    "df.treatment.value_counts()"
   ]
  },
  {
   "cell_type": "code",
   "execution_count": 100,
   "metadata": {},
   "outputs": [
    {
     "data": {
      "text/plain": [
       "<matplotlib.axes._subplots.AxesSubplot at 0x132c21858d0>"
      ]
     },
     "execution_count": 100,
     "metadata": {},
     "output_type": "execute_result"
    },
    {
     "data": {
      "image/png": "[encoded data removed]",
      "text/plain": [
       "<Figure size 432x432 with 1 Axes>"
      ]
     },
     "metadata": {
      "needs_background": "light"
     },
     "output_type": "display_data"
    }
   ],
   "source": [
    "plt.figure(figsize=(6, 6))\n",
    "sns.distplot(df.y,kde=False)\n",
    "sns.distplot(df.treatment,kde=False)"
   ]
  },
  {
   "cell_type": "code",
   "execution_count": 20,
   "metadata": {},
   "outputs": [
    {
     "name": "stderr",
     "output_type": "stream",
     "text": [
      "D:\\Home\\sholodnickiy\\AppData\\Local\\Continuum\\anaconda3\\lib\\site-packages\\sklearn\\linear_model\\logistic.py:433: FutureWarning: Default solver will be changed to 'lbfgs' in 0.22. Specify a solver to silence this warning.\n",
      "  FutureWarning)\n"
     ]
    },
    {
     "data": {
      "text/plain": [
       "array([ 1.38620467, -1.47612207,  0.56811021, -0.08105273,  0.36287561,\n",
       "        0.19636993,  0.0949877 ,  0.15002129,  0.23318383, -0.6866012 ,\n",
       "        0.88348574,  0.28130827,  0.19400676,  0.03754256,  0.24664349])"
      ]
     },
     "execution_count": 20,
     "metadata": {},
     "output_type": "execute_result"
    }
   ],
   "source": [
    "from sklearn.linear_model import LogisticRegression\n",
    "model = LogisticRegression()\n",
    "model.fit(df.drop(columns=['z','y','treatment']),df.y)\n",
    "model.coef_[0]\n"
   ]
  },
  {
   "cell_type": "code",
   "execution_count": null,
   "metadata": {},
   "outputs": [],
   "source": []
  },
  {
   "cell_type": "code",
   "execution_count": 25,
   "metadata": {},
   "outputs": [
    {
     "data": {
      "text/html": [
       "<div>\n",
       "<style scoped>\n",
       "    .dataframe tbody tr th:only-of-type {\n",
       "        vertical-align: middle;\n",
       "    }\n",
       "\n",
       "    .dataframe tbody tr th {\n",
       "        vertical-align: top;\n",
       "    }\n",
       "\n",
       "    .dataframe thead th {\n",
       "        text-align: right;\n",
       "    }\n",
       "</style>\n",
       "<table border=\"1\" class=\"dataframe\">\n",
       "  <thead>\n",
       "    <tr style=\"text-align: right;\">\n",
       "      <th></th>\n",
       "      <th>value</th>\n",
       "      <th>column</th>\n",
       "    </tr>\n",
       "  </thead>\n",
       "  <tbody>\n",
       "    <tr>\n",
       "      <th>1</th>\n",
       "      <td>1.476122</td>\n",
       "      <td>recency&gt;0.66q</td>\n",
       "    </tr>\n",
       "    <tr>\n",
       "      <th>0</th>\n",
       "      <td>1.386205</td>\n",
       "      <td>recency&lt;0.33q</td>\n",
       "    </tr>\n",
       "    <tr>\n",
       "      <th>10</th>\n",
       "      <td>0.883486</td>\n",
       "      <td>sum0&gt;0.66q</td>\n",
       "    </tr>\n",
       "    <tr>\n",
       "      <th>9</th>\n",
       "      <td>0.686601</td>\n",
       "      <td>sum0&lt;0.33q</td>\n",
       "    </tr>\n",
       "    <tr>\n",
       "      <th>2</th>\n",
       "      <td>0.568110</td>\n",
       "      <td>0.33q&lt;=recency&lt;=0.66q</td>\n",
       "    </tr>\n",
       "    <tr>\n",
       "      <th>4</th>\n",
       "      <td>0.362876</td>\n",
       "      <td>lifetime&gt;0.66q</td>\n",
       "    </tr>\n",
       "    <tr>\n",
       "      <th>11</th>\n",
       "      <td>0.281308</td>\n",
       "      <td>0.33q&lt;=sum0&lt;=0.66q</td>\n",
       "    </tr>\n",
       "    <tr>\n",
       "      <th>14</th>\n",
       "      <td>0.246643</td>\n",
       "      <td>avgcart&gt;0.66q</td>\n",
       "    </tr>\n",
       "    <tr>\n",
       "      <th>8</th>\n",
       "      <td>0.233184</td>\n",
       "      <td>0.33q&lt;=bigstoreshare&lt;=0.66q</td>\n",
       "    </tr>\n",
       "    <tr>\n",
       "      <th>5</th>\n",
       "      <td>0.196370</td>\n",
       "      <td>0.33q&lt;=lifetime&lt;=0.66q</td>\n",
       "    </tr>\n",
       "    <tr>\n",
       "      <th>12</th>\n",
       "      <td>0.194007</td>\n",
       "      <td>treatment</td>\n",
       "    </tr>\n",
       "    <tr>\n",
       "      <th>7</th>\n",
       "      <td>0.150021</td>\n",
       "      <td>bigstoreshare&gt;0.66q</td>\n",
       "    </tr>\n",
       "    <tr>\n",
       "      <th>6</th>\n",
       "      <td>0.094988</td>\n",
       "      <td>bigstoreshare&lt;0.33q</td>\n",
       "    </tr>\n",
       "    <tr>\n",
       "      <th>3</th>\n",
       "      <td>0.081053</td>\n",
       "      <td>lifetime&lt;0.33q</td>\n",
       "    </tr>\n",
       "    <tr>\n",
       "      <th>13</th>\n",
       "      <td>0.037543</td>\n",
       "      <td>avgcart&lt;0.33q</td>\n",
       "    </tr>\n",
       "  </tbody>\n",
       "</table>\n",
       "</div>"
      ],
      "text/plain": [
       "       value                       column\n",
       "1   1.476122                recency>0.66q\n",
       "0   1.386205                recency<0.33q\n",
       "10  0.883486                   sum0>0.66q\n",
       "9   0.686601                   sum0<0.33q\n",
       "2   0.568110        0.33q<=recency<=0.66q\n",
       "4   0.362876               lifetime>0.66q\n",
       "11  0.281308           0.33q<=sum0<=0.66q\n",
       "14  0.246643                avgcart>0.66q\n",
       "8   0.233184  0.33q<=bigstoreshare<=0.66q\n",
       "5   0.196370       0.33q<=lifetime<=0.66q\n",
       "12  0.194007                    treatment\n",
       "7   0.150021          bigstoreshare>0.66q\n",
       "6   0.094988          bigstoreshare<0.33q\n",
       "3   0.081053               lifetime<0.33q\n",
       "13  0.037543                avgcart<0.33q"
      ]
     },
     "execution_count": 25,
     "metadata": {},
     "output_type": "execute_result"
    }
   ],
   "source": [
    "\n",
    "df.drop(columns=['z','y','treatment']).columns\n",
    "cols = df.columns\n",
    "coefs = pd.DataFrame(list(zip(np.abs(model.coef_[0]),cols)),columns=['value','column'])\n",
    "coefs.sort_values(by='value',ascending=False)"
   ]
  },
  {
   "cell_type": "code",
   "execution_count": 32,
   "metadata": {},
   "outputs": [
    {
     "data": {
      "text/plain": [
       "<matplotlib.axes._subplots.AxesSubplot at 0x2bc6702e278>"
      ]
     },
     "execution_count": 32,
     "metadata": {},
     "output_type": "execute_result"
    },
    {
     "data": {
      "image/png": "[encoded data removed]",
      "text/plain": [
       "<Figure size 720x720 with 1 Axes>"
      ]
     },
     "metadata": {
      "needs_background": "light"
     },
     "output_type": "display_data"
    }
   ],
   "source": [
    "\n",
    "df.drop(columns=['z','y','treatment']).columns\n",
    "cols = df.columns\n",
    "coefs = pd.DataFrame(list(zip(np.abs(model.coef_[0]),cols)),columns=['value','column'])\n",
    "coefs.sort_values(by='value',ascending=False)\n",
    "\n",
    "plt.figure(figsize=(10, 10))\n",
    "sns.barplot(x = 'value',y='column',data= coefs)"
   ]
  },
  {
   "cell_type": "code",
   "execution_count": null,
   "metadata": {},
   "outputs": [],
   "source": []
  }
 ],
 "metadata": {
  "kernelspec": {
   "display_name": "Python 3",
   "language": "python",
   "name": "python3"
  },
  "language_info": {
   "codemirror_mode": {
    "name": "ipython",
    "version": 3
   },
   "file_extension": ".py",
   "mimetype": "text/x-python",
   "name": "python",
   "nbconvert_exporter": "python",
   "pygments_lexer": "ipython3",
   "version": "3.7.1"
  }
 },
 "nbformat": 4,
 "nbformat_minor": 2
}
