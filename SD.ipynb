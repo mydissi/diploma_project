{
 "cells": [
  {
   "cell_type": "code",
   "execution_count": null,
   "metadata": {},
   "outputs": [],
   "source": [
    "#Импортируем библиотеки\n",
    "import pandas as pd\n",
    "import numpy as np\n",
    "import pysubgroup as ps\n",
    "import warnings\n",
    "warnings.filterwarnings('ignore')\n",
    "#Подгружаем данные\n",
    "\n",
    "#Приводим данные к нужному виду: каждая колонка делится на три по квантилям <0,33, 0,33<0,66, >0,66\n",
    "work_data['numbasket0'] = data['numbasket0']\n",
    "work_data['sum0'] = data['sum0']\n",
    "work_data['avgcart'] = work_data['sum0'] / work_data['numbasket0']\n",
    "work_data['avgcart<0.33q'] = 0\n",
    "work_data['avgcart>0.66q'] = 0\n",
    "work_data['0.33q<=avgcart<=0.66q'] = 0\n",
    "for i in range(0,len(work_data)):\n",
    "    if(work_data['avgcart'][i] < np.quantile(work_data.avgcart,0.33)):\n",
    "        work_data['avgcart<0.33q'][i] = 1\n",
    "    elif(work_data['avgcart'][i] >= np.quantile(work_data.avgcart,0.33) and work_data['avgcart'][i] <= np.quantile(work_data.avgcart,0.66)):\n",
    "        work_data['0.33q<=avgcart<=0.66q'][i] = 1\n",
    "for i in range(0,len(work_data)):\n",
    "    if (work_data['avgcart<0.33q'][i] == 0 and work_data['0.33q<=avgcart<=0.66q'][i] == 0):\n",
    "        work_data['avgcart>0.66q'][i] = 1\n",
    "work_data = work_data.drop(columns=['avgcart'])\n",
    "work_data['treat1'] = 0\n",
    "work_data['treat2'] = 0\n",
    "for i in range(0,len(work_data)):\n",
    "    if (work_data.text1[i] == 1):\n",
    "        work_data['treat1'][i] = 1\n",
    "for i in range(0,len(work_data)):        \n",
    "    if(work_data.text2[i] == 1):\n",
    "        work_data['treat2'][i] = 1\n",
    "work_data = work_data.drop(columns=['text1','text2'])\n",
    "work_data['outcome'] = False\n",
    "for i in range(0,len(work_data)):\n",
    "    if (work_data.numbasket_firsttwoweeks[i] > 0):\n",
    "        work_data['outcome'][i] = True\n",
    "work_data = work_data.drop(columns=['text1','text2','numbasket_firsttwoweeks','numbasket_secondtwoweeks','sum_firsttwoweeks'])\n",
    "work_data['recency<0.33q'] = 0\n",
    "work_data['recency>0.66q'] = 0\n",
    "work_data['0.33q<=recency<=0.66q'] = 0\n",
    "for i in range(0,len(work_data)):\n",
    "    if(work_data['recency'][i] < np.quantile(work_data.recency,0.33)):\n",
    "        work_data['recency<0.33q'][i] = 1\n",
    "    elif(work_data['recency'][i] >= np.quantile(work_data.recency,0.33) and work_data['recency'][i] <= np.quantile(work_data.recency,0.66)):\n",
    "        work_data['0.33q<=recency<=0.66q'][i] = 1\n",
    "for i in range(0,len(work_data)):\n",
    "    if (work_data['recency<0.33q'][i] == 0 and work_data['0.33q<=recency<=0.66q'][i] == 0):\n",
    "        work_data['recency>0.66q'][i] = 1\n",
    "work_data = work_data.drop(columns=['recency'])\n",
    "work_data['lifetime<0.33q'] = 0\n",
    "work_data['lifetime>0.66q'] = 0\n",
    "work_data['0.33q<=lifetime<=0.66q'] = 0\n",
    "for i in range(0,len(work_data)):\n",
    "    if(work_data['lifetime'][i] < np.quantile(work_data.lifetime,0.33)):\n",
    "        work_data['lifetime<0.33q'][i] = 1\n",
    "    elif(work_data['lifetime'][i] >= np.quantile(work_data.lifetime,0.33) and work_data['lifetime'][i] <= np.quantile(work_data.lifetime,0.66)):\n",
    "        work_data['0.33q<=lifetime<=0.66q'][i] = 1\n",
    "for i in range(0,len(work_data)):\n",
    "    if (work_data['lifetime<0.33q'][i] == 0 and work_data['0.33q<=lifetime<=0.66q'][i] == 0):\n",
    "        work_data['lifetime>0.66q'][i] = 1\n",
    "work_data = work_data.drop(columns=['lifetime'])\n",
    "work_data['bigstoreshare<0.33q'] = 0\n",
    "work_data['bigstoreshare>0.66q'] = 0\n",
    "work_data['0.33q<=bigstoreshare<=0.66q'] = 0\n",
    "for i in range(0,len(work_data)):\n",
    "    if(work_data['bigstoreshare'][i] < np.quantile(work_data.bigstoreshare,0.33)):\n",
    "        work_data['bigstoreshare<0.33q'][i] = 1\n",
    "    elif(work_data['bigstoreshare'][i] >= np.quantile(work_data.bigstoreshare,0.33) and work_data['bigstoreshare'][i] <= np.quantile(work_data.bigstoreshare,0.66)):\n",
    "        work_data['0.33q<=bigstoreshare<=0.66q'][i] = 1\n",
    "for i in range(0,len(work_data)):\n",
    "    if (work_data['bigstoreshare<0.33q'][i] == 0 and work_data['0.33q<=bigstoreshare<=0.66q'][i] == 0):\n",
    "        work_data['bigstoreshare>0.66q'][i] = 1\n",
    "work_data = work_data.drop(columns=['bigstoreshare'])\n",
    "work_data['sum0<0.33q'] = 0\n",
    "work_data['sum0>0.66q'] = 0\n",
    "work_data['0.33q<=sum0<=0.66q'] = 0\n",
    "for i in range(0,len(work_data)):\n",
    "    if(work_data['sum0'][i] < np.quantile(work_data.sum0,0.33)):\n",
    "        work_data['sum0<0.33q'][i] = 1\n",
    "    elif(work_data['sum0'][i] >= np.quantile(work_data.sum0,0.33) and work_data['sum0'][i] <= np.quantile(work_data.sum0,0.66)):\n",
    "        work_data['0.33q<=sum0<=0.66q'][i] = 1\n",
    "for i in range(0,len(work_data)):\n",
    "    if (work_data['sum0<0.33q'][i] == 0 and work_data['0.33q<=sum0<=0.66q'][i] == 0):\n",
    "        work_data['sum0>0.66q'][i] = 1\n",
    "work_data = work_data.drop(columns=['sum0'])\n",
    "work_data = work_data.drop(columns=['numbasket0'])\n",
    "work_data['treatment'] = work_data['treat']\n",
    "final_data = pd.read_csv('final_data.csv')\n",
    "prepared_data = final_data\n",
    "prepared_data['y'] = 0\n",
    "for i in range(0,len(prepared_data.outcome)):\n",
    "    if(prepared_data.outcome[i] == True):\n",
    "        prepared_data.y[i] = 1\n",
    "    else:\n",
    "        prepared_data.y[i] = 0\n",
    "prepared_data['z'] = prepared_data['y']*prepared_data['treatment'] + (1-prepared_data['y'])*(1-prepared_data['treatment'])\n",
    "#Определяем параметры для запуска алгоритма\n",
    "target = ps.NominalTarget('z',True)\n",
    "searchspace = ps.create_selectors(prepared_data, ignore=['z','treatment','y'])\n",
    "task = ps.SubgroupDiscoveryTask (prepared_data, target, searchspace, \n",
    "            result_set_size=5, depth=4, qf=ps.ChiSquaredQF())\n",
    "result = ps.SimpleDFS().execute(task)\n",
    "#Смотрим результаты\n",
    "for (q, sg) in result:\n",
    "    print(str(q) + \":\\t\" + str(sg.subgroup_description))\n",
    "#Строим логистическую регрессиию  сравниваем результаты\n",
    "from sklearn.linear_model import LogisticRegression\n",
    "model1 = LogisticRegression()\n",
    "model1.fit(prepared_data.drop(columns=['z','y']),prepared_data.y)\n",
    "model1.coef_[0]\n",
    "prepared_data.drop(columns=['z','y']).columns\n",
    "cols = prepared_data.columns\n",
    "coefs = pd.DataFrame(list(zip(np.abs(model.coef_[0]),cols[0])),columns=['value','column'])\n",
    "coefs.sort_values(by='value',ascending=False)"
   ]
  },
  {
   "cell_type": "code",
   "execution_count": 3,
   "metadata": {},
   "outputs": [],
   "source": [
    "import pysubgroup as ps\n",
    "from sklearn.datasets import make_classification\n",
    "import pandas as pd\n",
    "import numpy as np\n",
    "from sklearn.linear_model import LogisticRegression\n",
    "import seaborn as sns\n",
    "import matplotlib.pyplot as plt\n",
    "%matplotlib inline\n"
   ]
  },
  {
   "cell_type": "code",
   "execution_count": 4,
   "metadata": {},
   "outputs": [],
   "source": [
    "import warnings\n",
    "warnings.filterwarnings('ignore')"
   ]
  },
  {
   "cell_type": "code",
   "execution_count": 193,
   "metadata": {},
   "outputs": [],
   "source": [
    "data = pd.read_csv('MobTargData-Original.csv',sep=';')"
   ]
  },
  {
   "cell_type": "code",
   "execution_count": 203,
   "metadata": {},
   "outputs": [
    {
     "data": {
      "text/plain": [
       "403.0"
      ]
     },
     "execution_count": 203,
     "metadata": {},
     "output_type": "execute_result"
    }
   ],
   "source": [
    "np.quantile(data[['lifetime']],0.66)"
   ]
  },
  {
   "cell_type": "code",
   "execution_count": 199,
   "metadata": {},
   "outputs": [
    {
     "data": {
      "text/plain": [
       "recency    26.111307\n",
       "dtype: float64"
      ]
     },
     "execution_count": 199,
     "metadata": {},
     "output_type": "execute_result"
    }
   ],
   "source": [
    "np.mean(data[['recency']])"
   ]
  },
  {
   "cell_type": "code",
   "execution_count": 5,
   "metadata": {},
   "outputs": [],
   "source": [
    "data = pd.read_csv('MobTargData-Original.csv',sep=';')\n",
    "work_columns = ['text1','text2','numbasket_firsttwoweeks','numbasket_secondtwoweeks','sum_firsttwoweeks','recency','lifetime','numbasket0','sum0','bigstoreshare']\n",
    "work_data = data[work_columns]"
   ]
  },
  {
   "cell_type": "code",
   "execution_count": 6,
   "metadata": {},
   "outputs": [],
   "source": [
    "work_data = data[work_columns]"
   ]
  },
  {
   "cell_type": "code",
   "execution_count": 7,
   "metadata": {},
   "outputs": [
    {
     "data": {
      "text/html": [
       "<div>\n",
       "<style scoped>\n",
       "    .dataframe tbody tr th:only-of-type {\n",
       "        vertical-align: middle;\n",
       "    }\n",
       "\n",
       "    .dataframe tbody tr th {\n",
       "        vertical-align: top;\n",
       "    }\n",
       "\n",
       "    .dataframe thead th {\n",
       "        text-align: right;\n",
       "    }\n",
       "</style>\n",
       "<table border=\"1\" class=\"dataframe\">\n",
       "  <thead>\n",
       "    <tr style=\"text-align: right;\">\n",
       "      <th></th>\n",
       "      <th>text1</th>\n",
       "      <th>text2</th>\n",
       "      <th>numbasket_firsttwoweeks</th>\n",
       "      <th>numbasket_secondtwoweeks</th>\n",
       "      <th>sum_firsttwoweeks</th>\n",
       "      <th>recency</th>\n",
       "      <th>lifetime</th>\n",
       "      <th>numbasket0</th>\n",
       "      <th>sum0</th>\n",
       "      <th>bigstoreshare</th>\n",
       "    </tr>\n",
       "  </thead>\n",
       "  <tbody>\n",
       "    <tr>\n",
       "      <th>0</th>\n",
       "      <td>0</td>\n",
       "      <td>0</td>\n",
       "      <td>0</td>\n",
       "      <td>0</td>\n",
       "      <td>0.00</td>\n",
       "      <td>6</td>\n",
       "      <td>418</td>\n",
       "      <td>50</td>\n",
       "      <td>14479.26</td>\n",
       "      <td>0.220000</td>\n",
       "    </tr>\n",
       "    <tr>\n",
       "      <th>1</th>\n",
       "      <td>0</td>\n",
       "      <td>0</td>\n",
       "      <td>8</td>\n",
       "      <td>9</td>\n",
       "      <td>7737.44</td>\n",
       "      <td>5</td>\n",
       "      <td>145</td>\n",
       "      <td>78</td>\n",
       "      <td>60167.88</td>\n",
       "      <td>0.282051</td>\n",
       "    </tr>\n",
       "    <tr>\n",
       "      <th>2</th>\n",
       "      <td>0</td>\n",
       "      <td>0</td>\n",
       "      <td>14</td>\n",
       "      <td>9</td>\n",
       "      <td>6938.93</td>\n",
       "      <td>4</td>\n",
       "      <td>419</td>\n",
       "      <td>201</td>\n",
       "      <td>219180.23</td>\n",
       "      <td>0.865672</td>\n",
       "    </tr>\n",
       "    <tr>\n",
       "      <th>3</th>\n",
       "      <td>0</td>\n",
       "      <td>0</td>\n",
       "      <td>0</td>\n",
       "      <td>0</td>\n",
       "      <td>0.00</td>\n",
       "      <td>57</td>\n",
       "      <td>364</td>\n",
       "      <td>31</td>\n",
       "      <td>36896.61</td>\n",
       "      <td>0.161290</td>\n",
       "    </tr>\n",
       "    <tr>\n",
       "      <th>4</th>\n",
       "      <td>0</td>\n",
       "      <td>0</td>\n",
       "      <td>0</td>\n",
       "      <td>0</td>\n",
       "      <td>0.00</td>\n",
       "      <td>132</td>\n",
       "      <td>12</td>\n",
       "      <td>5</td>\n",
       "      <td>1075.10</td>\n",
       "      <td>0.800000</td>\n",
       "    </tr>\n",
       "  </tbody>\n",
       "</table>\n",
       "</div>"
      ],
      "text/plain": [
       "   text1  text2  numbasket_firsttwoweeks  numbasket_secondtwoweeks  \\\n",
       "0      0      0                        0                         0   \n",
       "1      0      0                        8                         9   \n",
       "2      0      0                       14                         9   \n",
       "3      0      0                        0                         0   \n",
       "4      0      0                        0                         0   \n",
       "\n",
       "   sum_firsttwoweeks  recency  lifetime  numbasket0       sum0  bigstoreshare  \n",
       "0               0.00        6       418          50   14479.26       0.220000  \n",
       "1            7737.44        5       145          78   60167.88       0.282051  \n",
       "2            6938.93        4       419         201  219180.23       0.865672  \n",
       "3               0.00       57       364          31   36896.61       0.161290  \n",
       "4               0.00      132        12           5    1075.10       0.800000  "
      ]
     },
     "execution_count": 7,
     "metadata": {},
     "output_type": "execute_result"
    }
   ],
   "source": [
    "work_data.head()"
   ]
  },
  {
   "cell_type": "code",
   "execution_count": 8,
   "metadata": {},
   "outputs": [],
   "source": [
    "work_data = work_data.fillna(0);"
   ]
  },
  {
   "cell_type": "code",
   "execution_count": 11,
   "metadata": {},
   "outputs": [
    {
     "data": {
      "text/html": [
       "<div>\n",
       "<style scoped>\n",
       "    .dataframe tbody tr th:only-of-type {\n",
       "        vertical-align: middle;\n",
       "    }\n",
       "\n",
       "    .dataframe tbody tr th {\n",
       "        vertical-align: top;\n",
       "    }\n",
       "\n",
       "    .dataframe thead th {\n",
       "        text-align: right;\n",
       "    }\n",
       "</style>\n",
       "<table border=\"1\" class=\"dataframe\">\n",
       "  <thead>\n",
       "    <tr style=\"text-align: right;\">\n",
       "      <th></th>\n",
       "      <th>text1</th>\n",
       "      <th>text2</th>\n",
       "      <th>numbasket_firsttwoweeks</th>\n",
       "      <th>numbasket_secondtwoweeks</th>\n",
       "      <th>sum_firsttwoweeks</th>\n",
       "      <th>recency</th>\n",
       "      <th>lifetime</th>\n",
       "      <th>numbasket0</th>\n",
       "      <th>sum0</th>\n",
       "      <th>bigstoreshare</th>\n",
       "    </tr>\n",
       "  </thead>\n",
       "  <tbody>\n",
       "    <tr>\n",
       "      <td>0</td>\n",
       "      <td>0</td>\n",
       "      <td>0</td>\n",
       "      <td>0</td>\n",
       "      <td>0</td>\n",
       "      <td>0.00</td>\n",
       "      <td>6</td>\n",
       "      <td>418</td>\n",
       "      <td>50</td>\n",
       "      <td>14479.26</td>\n",
       "      <td>0.220000</td>\n",
       "    </tr>\n",
       "    <tr>\n",
       "      <td>1</td>\n",
       "      <td>0</td>\n",
       "      <td>0</td>\n",
       "      <td>8</td>\n",
       "      <td>9</td>\n",
       "      <td>7737.44</td>\n",
       "      <td>5</td>\n",
       "      <td>145</td>\n",
       "      <td>78</td>\n",
       "      <td>60167.88</td>\n",
       "      <td>0.282051</td>\n",
       "    </tr>\n",
       "    <tr>\n",
       "      <td>2</td>\n",
       "      <td>0</td>\n",
       "      <td>0</td>\n",
       "      <td>14</td>\n",
       "      <td>9</td>\n",
       "      <td>6938.93</td>\n",
       "      <td>4</td>\n",
       "      <td>419</td>\n",
       "      <td>201</td>\n",
       "      <td>219180.23</td>\n",
       "      <td>0.865672</td>\n",
       "    </tr>\n",
       "    <tr>\n",
       "      <td>3</td>\n",
       "      <td>0</td>\n",
       "      <td>0</td>\n",
       "      <td>0</td>\n",
       "      <td>0</td>\n",
       "      <td>0.00</td>\n",
       "      <td>57</td>\n",
       "      <td>364</td>\n",
       "      <td>31</td>\n",
       "      <td>36896.61</td>\n",
       "      <td>0.161290</td>\n",
       "    </tr>\n",
       "    <tr>\n",
       "      <td>4</td>\n",
       "      <td>0</td>\n",
       "      <td>0</td>\n",
       "      <td>0</td>\n",
       "      <td>0</td>\n",
       "      <td>0.00</td>\n",
       "      <td>132</td>\n",
       "      <td>12</td>\n",
       "      <td>5</td>\n",
       "      <td>1075.10</td>\n",
       "      <td>0.800000</td>\n",
       "    </tr>\n",
       "  </tbody>\n",
       "</table>\n",
       "</div>"
      ],
      "text/plain": [
       "   text1  text2  numbasket_firsttwoweeks  numbasket_secondtwoweeks  \\\n",
       "0      0      0                        0                         0   \n",
       "1      0      0                        8                         9   \n",
       "2      0      0                       14                         9   \n",
       "3      0      0                        0                         0   \n",
       "4      0      0                        0                         0   \n",
       "\n",
       "   sum_firsttwoweeks  recency  lifetime  numbasket0       sum0  bigstoreshare  \n",
       "0               0.00        6       418          50   14479.26       0.220000  \n",
       "1            7737.44        5       145          78   60167.88       0.282051  \n",
       "2            6938.93        4       419         201  219180.23       0.865672  \n",
       "3               0.00       57       364          31   36896.61       0.161290  \n",
       "4               0.00      132        12           5    1075.10       0.800000  "
      ]
     },
     "execution_count": 11,
     "metadata": {},
     "output_type": "execute_result"
    }
   ],
   "source": [
    "work_data.head()"
   ]
  },
  {
   "cell_type": "code",
   "execution_count": 118,
   "metadata": {},
   "outputs": [],
   "source": [
    "work_data['numbasket0'] = data['numbasket0']\n",
    "work_data['sum0'] = data['sum0']"
   ]
  },
  {
   "cell_type": "code",
   "execution_count": 119,
   "metadata": {},
   "outputs": [],
   "source": [
    "work_data['avgcart'] = work_data['sum0'] / work_data['numbasket0']"
   ]
  },
  {
   "cell_type": "code",
   "execution_count": null,
   "metadata": {},
   "outputs": [],
   "source": []
  },
  {
   "cell_type": "code",
   "execution_count": 122,
   "metadata": {},
   "outputs": [],
   "source": [
    "work_data['avgcart<0.33q'] = 0\n",
    "work_data['avgcart>0.66q'] = 0\n",
    "work_data['0.33q<=avgcart<=0.66q'] = 0"
   ]
  },
  {
   "cell_type": "code",
   "execution_count": 123,
   "metadata": {},
   "outputs": [],
   "source": [
    "for i in range(0,len(work_data)):\n",
    "    if(work_data['avgcart'][i] < np.quantile(work_data.avgcart,0.33)):\n",
    "        work_data['avgcart<0.33q'][i] = 1\n",
    "    elif(work_data['avgcart'][i] >= np.quantile(work_data.avgcart,0.33) and work_data['avgcart'][i] <= np.quantile(work_data.avgcart,0.66)):\n",
    "        work_data['0.33q<=avgcart<=0.66q'][i] = 1\n",
    "for i in range(0,len(work_data)):\n",
    "    if (work_data['avgcart<0.33q'][i] == 0 and work_data['0.33q<=avgcart<=0.66q'][i] == 0):\n",
    "        work_data['avgcart>0.66q'][i] = 1\n",
    "work_data = work_data.drop(columns=['avgcart'])"
   ]
  },
  {
   "cell_type": "code",
   "execution_count": null,
   "metadata": {},
   "outputs": [],
   "source": []
  },
  {
   "cell_type": "code",
   "execution_count": 80,
   "metadata": {},
   "outputs": [],
   "source": [
    "work_data['treat1'] = 0\n",
    "work_data['treat2'] = 0"
   ]
  },
  {
   "cell_type": "code",
   "execution_count": 81,
   "metadata": {},
   "outputs": [],
   "source": [
    "for i in range(0,len(work_data)):\n",
    "    if (work_data.text1[i] == 1):\n",
    "        work_data['treat1'][i] = 1\n",
    "for i in range(0,len(work_data)):        \n",
    "    if(work_data.text2[i] == 1):\n",
    "        work_data['treat2'][i] = 1"
   ]
  },
  {
   "cell_type": "code",
   "execution_count": 84,
   "metadata": {},
   "outputs": [],
   "source": [
    "work_data = work_data.drop(columns=['text1','text2'])"
   ]
  },
  {
   "cell_type": "code",
   "execution_count": 11,
   "metadata": {},
   "outputs": [],
   "source": [
    "work_data['outcome'] = False"
   ]
  },
  {
   "cell_type": "code",
   "execution_count": 12,
   "metadata": {},
   "outputs": [],
   "source": [
    "for i in range(0,len(work_data)):\n",
    "    if (work_data.numbasket_firsttwoweeks[i] > 0):\n",
    "        work_data['outcome'][i] = True"
   ]
  },
  {
   "cell_type": "code",
   "execution_count": 13,
   "metadata": {},
   "outputs": [],
   "source": [
    "work_data = work_data.drop(columns=['text1','text2','numbasket_firsttwoweeks','numbasket_secondtwoweeks','sum_firsttwoweeks'])"
   ]
  },
  {
   "cell_type": "code",
   "execution_count": null,
   "metadata": {},
   "outputs": [],
   "source": []
  },
  {
   "cell_type": "code",
   "execution_count": 15,
   "metadata": {},
   "outputs": [],
   "source": [
    "work_data['recency<0.33q'] = 0\n",
    "work_data['recency>0.66q'] = 0\n",
    "work_data['0.33q<=recency<=0.66q'] = 0"
   ]
  },
  {
   "cell_type": "code",
   "execution_count": 22,
   "metadata": {},
   "outputs": [
    {
     "data": {
      "text/html": [
       "<div>\n",
       "<style scoped>\n",
       "    .dataframe tbody tr th:only-of-type {\n",
       "        vertical-align: middle;\n",
       "    }\n",
       "\n",
       "    .dataframe tbody tr th {\n",
       "        vertical-align: top;\n",
       "    }\n",
       "\n",
       "    .dataframe thead th {\n",
       "        text-align: right;\n",
       "    }\n",
       "</style>\n",
       "<table border=\"1\" class=\"dataframe\">\n",
       "  <thead>\n",
       "    <tr style=\"text-align: right;\">\n",
       "      <th></th>\n",
       "      <th>lifetime</th>\n",
       "      <th>numbasket0</th>\n",
       "      <th>sum0</th>\n",
       "      <th>bigstoreshare</th>\n",
       "      <th>treat</th>\n",
       "      <th>outcome</th>\n",
       "      <th>recency&lt;0.33q</th>\n",
       "      <th>recency&gt;0.66q</th>\n",
       "      <th>0.33q&lt;=recency&lt;=0.66q</th>\n",
       "      <th>lifetime&lt;0.33q</th>\n",
       "      <th>lifetime&gt;0.66q</th>\n",
       "      <th>0.33q&lt;=lifetime&lt;=0.66q</th>\n",
       "    </tr>\n",
       "  </thead>\n",
       "  <tbody>\n",
       "    <tr>\n",
       "      <th>0</th>\n",
       "      <td>418</td>\n",
       "      <td>50</td>\n",
       "      <td>14479.26</td>\n",
       "      <td>0.220000</td>\n",
       "      <td>0</td>\n",
       "      <td>False</td>\n",
       "      <td>0</td>\n",
       "      <td>0</td>\n",
       "      <td>1</td>\n",
       "      <td>0</td>\n",
       "      <td>0</td>\n",
       "      <td>0</td>\n",
       "    </tr>\n",
       "    <tr>\n",
       "      <th>1</th>\n",
       "      <td>145</td>\n",
       "      <td>78</td>\n",
       "      <td>60167.88</td>\n",
       "      <td>0.282051</td>\n",
       "      <td>0</td>\n",
       "      <td>True</td>\n",
       "      <td>0</td>\n",
       "      <td>0</td>\n",
       "      <td>1</td>\n",
       "      <td>1</td>\n",
       "      <td>0</td>\n",
       "      <td>0</td>\n",
       "    </tr>\n",
       "    <tr>\n",
       "      <th>2</th>\n",
       "      <td>419</td>\n",
       "      <td>201</td>\n",
       "      <td>219180.23</td>\n",
       "      <td>0.865672</td>\n",
       "      <td>0</td>\n",
       "      <td>True</td>\n",
       "      <td>0</td>\n",
       "      <td>0</td>\n",
       "      <td>1</td>\n",
       "      <td>0</td>\n",
       "      <td>0</td>\n",
       "      <td>0</td>\n",
       "    </tr>\n",
       "    <tr>\n",
       "      <th>3</th>\n",
       "      <td>364</td>\n",
       "      <td>31</td>\n",
       "      <td>36896.61</td>\n",
       "      <td>0.161290</td>\n",
       "      <td>0</td>\n",
       "      <td>False</td>\n",
       "      <td>0</td>\n",
       "      <td>1</td>\n",
       "      <td>0</td>\n",
       "      <td>0</td>\n",
       "      <td>0</td>\n",
       "      <td>1</td>\n",
       "    </tr>\n",
       "    <tr>\n",
       "      <th>4</th>\n",
       "      <td>12</td>\n",
       "      <td>5</td>\n",
       "      <td>1075.10</td>\n",
       "      <td>0.800000</td>\n",
       "      <td>0</td>\n",
       "      <td>False</td>\n",
       "      <td>0</td>\n",
       "      <td>1</td>\n",
       "      <td>0</td>\n",
       "      <td>1</td>\n",
       "      <td>0</td>\n",
       "      <td>0</td>\n",
       "    </tr>\n",
       "  </tbody>\n",
       "</table>\n",
       "</div>"
      ],
      "text/plain": [
       "   lifetime  numbasket0       sum0  bigstoreshare  treat  outcome  \\\n",
       "0       418          50   14479.26       0.220000      0    False   \n",
       "1       145          78   60167.88       0.282051      0     True   \n",
       "2       419         201  219180.23       0.865672      0     True   \n",
       "3       364          31   36896.61       0.161290      0    False   \n",
       "4        12           5    1075.10       0.800000      0    False   \n",
       "\n",
       "   recency<0.33q  recency>0.66q  0.33q<=recency<=0.66q  lifetime<0.33q  \\\n",
       "0              0              0                      1               0   \n",
       "1              0              0                      1               1   \n",
       "2              0              0                      1               0   \n",
       "3              0              1                      0               0   \n",
       "4              0              1                      0               1   \n",
       "\n",
       "   lifetime>0.66q  0.33q<=lifetime<=0.66q  \n",
       "0               0                       0  \n",
       "1               0                       0  \n",
       "2               0                       0  \n",
       "3               0                       1  \n",
       "4               0                       0  "
      ]
     },
     "execution_count": 22,
     "metadata": {},
     "output_type": "execute_result"
    }
   ],
   "source": [
    "work_data.head()"
   ]
  },
  {
   "cell_type": "code",
   "execution_count": 17,
   "metadata": {},
   "outputs": [],
   "source": [
    "for i in range(0,len(work_data)):\n",
    "    if(work_data['recency'][i] < np.quantile(work_data.recency,0.33)):\n",
    "        work_data['recency<0.33q'][i] = 1\n",
    "    elif(work_data['recency'][i] >= np.quantile(work_data.recency,0.33) and work_data['recency'][i] <= np.quantile(work_data.recency,0.66)):\n",
    "        work_data['0.33q<=recency<=0.66q'][i] = 1\n",
    "for i in range(0,len(work_data)):\n",
    "    if (work_data['recency<0.33q'][i] == 0 and work_data['0.33q<=recency<=0.66q'][i] == 0):\n",
    "        work_data['recency>0.66q'][i] = 1\n",
    "work_data = work_data.drop(columns=['recency'])"
   ]
  },
  {
   "cell_type": "code",
   "execution_count": 23,
   "metadata": {},
   "outputs": [],
   "source": [
    "work_data['lifetime<0.33q'] = 0\n",
    "work_data['lifetime>0.66q'] = 0\n",
    "work_data['0.33q<=lifetime<=0.66q'] = 0"
   ]
  },
  {
   "cell_type": "code",
   "execution_count": 24,
   "metadata": {},
   "outputs": [],
   "source": [
    "for i in range(0,len(work_data)):\n",
    "    if(work_data['lifetime'][i] < np.quantile(work_data.lifetime,0.33)):\n",
    "        work_data['lifetime<0.33q'][i] = 1\n",
    "    elif(work_data['lifetime'][i] >= np.quantile(work_data.lifetime,0.33) and work_data['lifetime'][i] <= np.quantile(work_data.lifetime,0.66)):\n",
    "        work_data['0.33q<=lifetime<=0.66q'][i] = 1\n",
    "for i in range(0,len(work_data)):\n",
    "    if (work_data['lifetime<0.33q'][i] == 0 and work_data['0.33q<=lifetime<=0.66q'][i] == 0):\n",
    "        work_data['lifetime>0.66q'][i] = 1\n",
    "work_data = work_data.drop(columns=['lifetime'])"
   ]
  },
  {
   "cell_type": "code",
   "execution_count": 67,
   "metadata": {},
   "outputs": [
    {
     "data": {
      "text/html": [
       "<div>\n",
       "<style scoped>\n",
       "    .dataframe tbody tr th:only-of-type {\n",
       "        vertical-align: middle;\n",
       "    }\n",
       "\n",
       "    .dataframe tbody tr th {\n",
       "        vertical-align: top;\n",
       "    }\n",
       "\n",
       "    .dataframe thead th {\n",
       "        text-align: right;\n",
       "    }\n",
       "</style>\n",
       "<table border=\"1\" class=\"dataframe\">\n",
       "  <thead>\n",
       "    <tr style=\"text-align: right;\">\n",
       "      <th></th>\n",
       "      <th>treat</th>\n",
       "      <th>outcome</th>\n",
       "      <th>recency&lt;0.33q</th>\n",
       "      <th>recency&gt;0.66q</th>\n",
       "      <th>0.33q&lt;=recency&lt;=0.66q</th>\n",
       "      <th>lifetime&lt;0.33q</th>\n",
       "      <th>lifetime&gt;0.66q</th>\n",
       "      <th>0.33q&lt;=lifetime&lt;=0.66q</th>\n",
       "      <th>bigstoreshare&lt;0.33q</th>\n",
       "      <th>bigstoreshare&gt;0.66q</th>\n",
       "      <th>0.33q&lt;=bigstoreshare&lt;=0.66q</th>\n",
       "      <th>sum0&lt;0.33q</th>\n",
       "      <th>sum0&gt;0.66q</th>\n",
       "      <th>0.33q&lt;=sum0&lt;=0.66q</th>\n",
       "    </tr>\n",
       "  </thead>\n",
       "  <tbody>\n",
       "    <tr>\n",
       "      <th>0</th>\n",
       "      <td>0</td>\n",
       "      <td>False</td>\n",
       "      <td>0</td>\n",
       "      <td>0</td>\n",
       "      <td>1</td>\n",
       "      <td>0</td>\n",
       "      <td>1</td>\n",
       "      <td>0</td>\n",
       "      <td>0</td>\n",
       "      <td>0</td>\n",
       "      <td>1</td>\n",
       "      <td>0</td>\n",
       "      <td>0</td>\n",
       "      <td>1</td>\n",
       "    </tr>\n",
       "    <tr>\n",
       "      <th>1</th>\n",
       "      <td>0</td>\n",
       "      <td>True</td>\n",
       "      <td>0</td>\n",
       "      <td>0</td>\n",
       "      <td>1</td>\n",
       "      <td>1</td>\n",
       "      <td>0</td>\n",
       "      <td>0</td>\n",
       "      <td>0</td>\n",
       "      <td>0</td>\n",
       "      <td>1</td>\n",
       "      <td>0</td>\n",
       "      <td>1</td>\n",
       "      <td>0</td>\n",
       "    </tr>\n",
       "    <tr>\n",
       "      <th>2</th>\n",
       "      <td>0</td>\n",
       "      <td>True</td>\n",
       "      <td>0</td>\n",
       "      <td>0</td>\n",
       "      <td>1</td>\n",
       "      <td>0</td>\n",
       "      <td>1</td>\n",
       "      <td>0</td>\n",
       "      <td>0</td>\n",
       "      <td>1</td>\n",
       "      <td>0</td>\n",
       "      <td>0</td>\n",
       "      <td>1</td>\n",
       "      <td>0</td>\n",
       "    </tr>\n",
       "    <tr>\n",
       "      <th>3</th>\n",
       "      <td>0</td>\n",
       "      <td>False</td>\n",
       "      <td>0</td>\n",
       "      <td>1</td>\n",
       "      <td>0</td>\n",
       "      <td>0</td>\n",
       "      <td>0</td>\n",
       "      <td>1</td>\n",
       "      <td>0</td>\n",
       "      <td>0</td>\n",
       "      <td>1</td>\n",
       "      <td>0</td>\n",
       "      <td>0</td>\n",
       "      <td>1</td>\n",
       "    </tr>\n",
       "    <tr>\n",
       "      <th>4</th>\n",
       "      <td>0</td>\n",
       "      <td>False</td>\n",
       "      <td>0</td>\n",
       "      <td>1</td>\n",
       "      <td>0</td>\n",
       "      <td>1</td>\n",
       "      <td>0</td>\n",
       "      <td>0</td>\n",
       "      <td>0</td>\n",
       "      <td>1</td>\n",
       "      <td>0</td>\n",
       "      <td>1</td>\n",
       "      <td>0</td>\n",
       "      <td>0</td>\n",
       "    </tr>\n",
       "  </tbody>\n",
       "</table>\n",
       "</div>"
      ],
      "text/plain": [
       "   treat  outcome  recency<0.33q  recency>0.66q  0.33q<=recency<=0.66q  \\\n",
       "0      0    False              0              0                      1   \n",
       "1      0     True              0              0                      1   \n",
       "2      0     True              0              0                      1   \n",
       "3      0    False              0              1                      0   \n",
       "4      0    False              0              1                      0   \n",
       "\n",
       "   lifetime<0.33q  lifetime>0.66q  0.33q<=lifetime<=0.66q  \\\n",
       "0               0               1                       0   \n",
       "1               1               0                       0   \n",
       "2               0               1                       0   \n",
       "3               0               0                       1   \n",
       "4               1               0                       0   \n",
       "\n",
       "   bigstoreshare<0.33q  bigstoreshare>0.66q  0.33q<=bigstoreshare<=0.66q  \\\n",
       "0                    0                    0                            1   \n",
       "1                    0                    0                            1   \n",
       "2                    0                    1                            0   \n",
       "3                    0                    0                            1   \n",
       "4                    0                    1                            0   \n",
       "\n",
       "   sum0<0.33q  sum0>0.66q  0.33q<=sum0<=0.66q  \n",
       "0           0           0                   1  \n",
       "1           0           1                   0  \n",
       "2           0           1                   0  \n",
       "3           0           0                   1  \n",
       "4           1           0                   0  "
      ]
     },
     "execution_count": 67,
     "metadata": {},
     "output_type": "execute_result"
    }
   ],
   "source": [
    "work_data.head()"
   ]
  },
  {
   "cell_type": "code",
   "execution_count": 26,
   "metadata": {},
   "outputs": [],
   "source": [
    "work_data['bigstoreshare<0.33q'] = 0\n",
    "work_data['bigstoreshare>0.66q'] = 0\n",
    "work_data['0.33q<=bigstoreshare<=0.66q'] = 0"
   ]
  },
  {
   "cell_type": "code",
   "execution_count": 27,
   "metadata": {},
   "outputs": [],
   "source": [
    "for i in range(0,len(work_data)):\n",
    "    if(work_data['bigstoreshare'][i] < np.quantile(work_data.bigstoreshare,0.33)):\n",
    "        work_data['bigstoreshare<0.33q'][i] = 1\n",
    "    elif(work_data['bigstoreshare'][i] >= np.quantile(work_data.bigstoreshare,0.33) and work_data['bigstoreshare'][i] <= np.quantile(work_data.bigstoreshare,0.66)):\n",
    "        work_data['0.33q<=bigstoreshare<=0.66q'][i] = 1\n",
    "for i in range(0,len(work_data)):\n",
    "    if (work_data['bigstoreshare<0.33q'][i] == 0 and work_data['0.33q<=bigstoreshare<=0.66q'][i] == 0):\n",
    "        work_data['bigstoreshare>0.66q'][i] = 1\n",
    "work_data = work_data.drop(columns=['bigstoreshare'])"
   ]
  },
  {
   "cell_type": "code",
   "execution_count": 28,
   "metadata": {},
   "outputs": [],
   "source": [
    "work_data['sum0<0.33q'] = 0\n",
    "work_data['sum0>0.66q'] = 0\n",
    "work_data['0.33q<=sum0<=0.66q'] = 0"
   ]
  },
  {
   "cell_type": "code",
   "execution_count": 29,
   "metadata": {},
   "outputs": [],
   "source": [
    "for i in range(0,len(work_data)):\n",
    "    if(work_data['sum0'][i] < np.quantile(work_data.sum0,0.33)):\n",
    "        work_data['sum0<0.33q'][i] = 1\n",
    "    elif(work_data['sum0'][i] >= np.quantile(work_data.sum0,0.33) and work_data['sum0'][i] <= np.quantile(work_data.sum0,0.66)):\n",
    "        work_data['0.33q<=sum0<=0.66q'][i] = 1\n",
    "for i in range(0,len(work_data)):\n",
    "    if (work_data['sum0<0.33q'][i] == 0 and work_data['0.33q<=sum0<=0.66q'][i] == 0):\n",
    "        work_data['sum0>0.66q'][i] = 1\n",
    "work_data = work_data.drop(columns=['sum0'])"
   ]
  },
  {
   "cell_type": "code",
   "execution_count": 30,
   "metadata": {},
   "outputs": [],
   "source": [
    "work_data = work_data.drop(columns=['numbasket0'])"
   ]
  },
  {
   "cell_type": "code",
   "execution_count": 68,
   "metadata": {},
   "outputs": [],
   "source": [
    "work_data = work_data.drop(columns=['numbasket0'])\n",
    "work_data['treatment'] = work_data['treat']\n",
    "final_data = pd.read_csv('final_data.csv')\n",
    "prepared_data = final_data\n",
    "prepared_data['y'] = 0\n",
    "for i in range(0,len(prepared_data.outcome)):\n",
    "    if(prepared_data.outcome[i] == True):\n",
    "        prepared_data.y[i] = 1\n",
    "    else:\n",
    "        prepared_data.y[i] = 0\n",
    "prepared_data['z'] = prepared_data['y']*prepared_data['treatment'] + (1-prepared_data['y'])*(1-prepared_data['treatment'])\n",
    "target = ps.NominalTarget('z',True)\n",
    "searchspace = ps.create_selectors(prepared_data, ignore=['z','treatment','y'])\n",
    "task = ps.SubgroupDiscoveryTask (prepared_data, target, searchspace, \n",
    "            result_set_size=5, depth=4, qf=ps.ChiSquaredQF())\n",
    "result = ps.SimpleDFS().execute(task)\n",
    "for (q, sg) in result:\n",
    "    print(str(q) + \":\\t\" + str(sg.subgroup_description))\n",
    "from sklearn.linear_model import LogisticRegression\n",
    "model1 = LogisticRegression()\n",
    "model1.fit(prepared_data.drop(columns=['z','y']),prepared_data.y)\n",
    "model1.coef_[0]\n",
    "prepared_data.drop(columns=['z','y']).columns\n",
    "cols = prepared_data.columns\n",
    "coefs = pd.DataFrame(list(zip(np.abs(model.coef_[0]),cols[0])),columns=['value','column'])\n",
    "coefs.sort_values(by='value',ascending=False)"
   ]
  },
  {
   "cell_type": "code",
   "execution_count": 114,
   "metadata": {},
   "outputs": [],
   "source": [
    "#prepared_data = pd.read_csv('prepared_data.csv')"
   ]
  },
  {
   "cell_type": "code",
   "execution_count": 5,
   "metadata": {},
   "outputs": [],
   "source": [
    "final_data = pd.read_csv('final_data.csv')"
   ]
  },
  {
   "cell_type": "code",
   "execution_count": 6,
   "metadata": {},
   "outputs": [],
   "source": [
    "prepared_data = final_data"
   ]
  },
  {
   "cell_type": "code",
   "execution_count": 6,
   "metadata": {},
   "outputs": [
    {
     "ename": "AttributeError",
     "evalue": "'DataFrame' object has no attribute 'outcome'",
     "output_type": "error",
     "traceback": [
      "\u001b[1;31m---------------------------------------------------------------------------\u001b[0m",
      "\u001b[1;31mAttributeError\u001b[0m                            Traceback (most recent call last)",
      "\u001b[1;32m<ipython-input-6-7f355a4361c6>\u001b[0m in \u001b[0;36m<module>\u001b[1;34m\u001b[0m\n\u001b[0;32m      1\u001b[0m \u001b[0mprepared_data\u001b[0m\u001b[1;33m[\u001b[0m\u001b[1;34m'y'\u001b[0m\u001b[1;33m]\u001b[0m \u001b[1;33m=\u001b[0m \u001b[1;36m0\u001b[0m\u001b[1;33m\u001b[0m\u001b[1;33m\u001b[0m\u001b[0m\n\u001b[1;32m----> 2\u001b[1;33m \u001b[1;32mfor\u001b[0m \u001b[0mi\u001b[0m \u001b[1;32min\u001b[0m \u001b[0mrange\u001b[0m\u001b[1;33m(\u001b[0m\u001b[1;36m0\u001b[0m\u001b[1;33m,\u001b[0m\u001b[0mlen\u001b[0m\u001b[1;33m(\u001b[0m\u001b[0mprepared_data\u001b[0m\u001b[1;33m.\u001b[0m\u001b[0moutcome\u001b[0m\u001b[1;33m)\u001b[0m\u001b[1;33m)\u001b[0m\u001b[1;33m:\u001b[0m\u001b[1;33m\u001b[0m\u001b[1;33m\u001b[0m\u001b[0m\n\u001b[0m\u001b[0;32m      3\u001b[0m     \u001b[1;32mif\u001b[0m\u001b[1;33m(\u001b[0m\u001b[0mprepared_data\u001b[0m\u001b[1;33m.\u001b[0m\u001b[0moutcome\u001b[0m\u001b[1;33m[\u001b[0m\u001b[0mi\u001b[0m\u001b[1;33m]\u001b[0m \u001b[1;33m==\u001b[0m \u001b[1;32mTrue\u001b[0m\u001b[1;33m)\u001b[0m\u001b[1;33m:\u001b[0m\u001b[1;33m\u001b[0m\u001b[1;33m\u001b[0m\u001b[0m\n\u001b[0;32m      4\u001b[0m         \u001b[0mprepared_data\u001b[0m\u001b[1;33m.\u001b[0m\u001b[0my\u001b[0m\u001b[1;33m[\u001b[0m\u001b[0mi\u001b[0m\u001b[1;33m]\u001b[0m \u001b[1;33m=\u001b[0m \u001b[1;36m1\u001b[0m\u001b[1;33m\u001b[0m\u001b[1;33m\u001b[0m\u001b[0m\n\u001b[0;32m      5\u001b[0m     \u001b[1;32melse\u001b[0m\u001b[1;33m:\u001b[0m\u001b[1;33m\u001b[0m\u001b[1;33m\u001b[0m\u001b[0m\n",
      "\u001b[1;32m~\\AppData\\Local\\Continuum\\anaconda3\\lib\\site-packages\\pandas\\core\\generic.py\u001b[0m in \u001b[0;36m__getattr__\u001b[1;34m(self, name)\u001b[0m\n\u001b[0;32m   4374\u001b[0m             \u001b[1;32mif\u001b[0m \u001b[0mself\u001b[0m\u001b[1;33m.\u001b[0m\u001b[0m_info_axis\u001b[0m\u001b[1;33m.\u001b[0m\u001b[0m_can_hold_identifiers_and_holds_name\u001b[0m\u001b[1;33m(\u001b[0m\u001b[0mname\u001b[0m\u001b[1;33m)\u001b[0m\u001b[1;33m:\u001b[0m\u001b[1;33m\u001b[0m\u001b[1;33m\u001b[0m\u001b[0m\n\u001b[0;32m   4375\u001b[0m                 \u001b[1;32mreturn\u001b[0m \u001b[0mself\u001b[0m\u001b[1;33m[\u001b[0m\u001b[0mname\u001b[0m\u001b[1;33m]\u001b[0m\u001b[1;33m\u001b[0m\u001b[1;33m\u001b[0m\u001b[0m\n\u001b[1;32m-> 4376\u001b[1;33m             \u001b[1;32mreturn\u001b[0m \u001b[0mobject\u001b[0m\u001b[1;33m.\u001b[0m\u001b[0m__getattribute__\u001b[0m\u001b[1;33m(\u001b[0m\u001b[0mself\u001b[0m\u001b[1;33m,\u001b[0m \u001b[0mname\u001b[0m\u001b[1;33m)\u001b[0m\u001b[1;33m\u001b[0m\u001b[1;33m\u001b[0m\u001b[0m\n\u001b[0m\u001b[0;32m   4377\u001b[0m \u001b[1;33m\u001b[0m\u001b[0m\n\u001b[0;32m   4378\u001b[0m     \u001b[1;32mdef\u001b[0m \u001b[0m__setattr__\u001b[0m\u001b[1;33m(\u001b[0m\u001b[0mself\u001b[0m\u001b[1;33m,\u001b[0m \u001b[0mname\u001b[0m\u001b[1;33m,\u001b[0m \u001b[0mvalue\u001b[0m\u001b[1;33m)\u001b[0m\u001b[1;33m:\u001b[0m\u001b[1;33m\u001b[0m\u001b[1;33m\u001b[0m\u001b[0m\n",
      "\u001b[1;31mAttributeError\u001b[0m: 'DataFrame' object has no attribute 'outcome'"
     ]
    }
   ],
   "source": [
    "prepared_data['y'] = 0\n",
    "for i in range(0,len(prepared_data.outcome)):\n",
    "    if(prepared_data.outcome[i] == True):\n",
    "        prepared_data.y[i] = 1\n",
    "    else:\n",
    "        prepared_data.y[i] = 0"
   ]
  },
  {
   "cell_type": "code",
   "execution_count": null,
   "metadata": {},
   "outputs": [],
   "source": []
  },
  {
   "cell_type": "code",
   "execution_count": 8,
   "metadata": {},
   "outputs": [],
   "source": [
    "prepared_data['z'] = prepared_data['y']*prepared_data['treatment'] + (1-prepared_data['y'])*(1-prepared_data['treatment'])"
   ]
  },
  {
   "cell_type": "code",
   "execution_count": 9,
   "metadata": {},
   "outputs": [
    {
     "data": {
      "text/html": [
       "<div>\n",
       "<style scoped>\n",
       "    .dataframe tbody tr th:only-of-type {\n",
       "        vertical-align: middle;\n",
       "    }\n",
       "\n",
       "    .dataframe tbody tr th {\n",
       "        vertical-align: top;\n",
       "    }\n",
       "\n",
       "    .dataframe thead th {\n",
       "        text-align: right;\n",
       "    }\n",
       "</style>\n",
       "<table border=\"1\" class=\"dataframe\">\n",
       "  <thead>\n",
       "    <tr style=\"text-align: right;\">\n",
       "      <th></th>\n",
       "      <th>recency&lt;0.33q</th>\n",
       "      <th>recency&gt;0.66q</th>\n",
       "      <th>0.33q&lt;=recency&lt;=0.66q</th>\n",
       "      <th>lifetime&lt;0.33q</th>\n",
       "      <th>lifetime&gt;0.66q</th>\n",
       "      <th>0.33q&lt;=lifetime&lt;=0.66q</th>\n",
       "      <th>bigstoreshare&lt;0.33q</th>\n",
       "      <th>bigstoreshare&gt;0.66q</th>\n",
       "      <th>0.33q&lt;=bigstoreshare&lt;=0.66q</th>\n",
       "      <th>sum0&lt;0.33q</th>\n",
       "      <th>sum0&gt;0.66q</th>\n",
       "      <th>0.33q&lt;=sum0&lt;=0.66q</th>\n",
       "      <th>treatment</th>\n",
       "      <th>avgcart&lt;0.33q</th>\n",
       "      <th>avgcart&gt;0.66q</th>\n",
       "      <th>0.33q&lt;=avgcart&lt;=0.66q</th>\n",
       "      <th>y</th>\n",
       "      <th>z</th>\n",
       "    </tr>\n",
       "  </thead>\n",
       "  <tbody>\n",
       "    <tr>\n",
       "      <th>0</th>\n",
       "      <td>0</td>\n",
       "      <td>0</td>\n",
       "      <td>1</td>\n",
       "      <td>0</td>\n",
       "      <td>1</td>\n",
       "      <td>0</td>\n",
       "      <td>0</td>\n",
       "      <td>0</td>\n",
       "      <td>1</td>\n",
       "      <td>0</td>\n",
       "      <td>0</td>\n",
       "      <td>1</td>\n",
       "      <td>0</td>\n",
       "      <td>1</td>\n",
       "      <td>0</td>\n",
       "      <td>0</td>\n",
       "      <td>0</td>\n",
       "      <td>1</td>\n",
       "    </tr>\n",
       "    <tr>\n",
       "      <th>1</th>\n",
       "      <td>0</td>\n",
       "      <td>0</td>\n",
       "      <td>1</td>\n",
       "      <td>1</td>\n",
       "      <td>0</td>\n",
       "      <td>0</td>\n",
       "      <td>0</td>\n",
       "      <td>0</td>\n",
       "      <td>1</td>\n",
       "      <td>0</td>\n",
       "      <td>1</td>\n",
       "      <td>0</td>\n",
       "      <td>0</td>\n",
       "      <td>0</td>\n",
       "      <td>1</td>\n",
       "      <td>0</td>\n",
       "      <td>1</td>\n",
       "      <td>0</td>\n",
       "    </tr>\n",
       "    <tr>\n",
       "      <th>2</th>\n",
       "      <td>0</td>\n",
       "      <td>0</td>\n",
       "      <td>1</td>\n",
       "      <td>0</td>\n",
       "      <td>1</td>\n",
       "      <td>0</td>\n",
       "      <td>0</td>\n",
       "      <td>1</td>\n",
       "      <td>0</td>\n",
       "      <td>0</td>\n",
       "      <td>1</td>\n",
       "      <td>0</td>\n",
       "      <td>0</td>\n",
       "      <td>0</td>\n",
       "      <td>1</td>\n",
       "      <td>0</td>\n",
       "      <td>1</td>\n",
       "      <td>0</td>\n",
       "    </tr>\n",
       "    <tr>\n",
       "      <th>3</th>\n",
       "      <td>0</td>\n",
       "      <td>1</td>\n",
       "      <td>0</td>\n",
       "      <td>0</td>\n",
       "      <td>0</td>\n",
       "      <td>1</td>\n",
       "      <td>0</td>\n",
       "      <td>0</td>\n",
       "      <td>1</td>\n",
       "      <td>0</td>\n",
       "      <td>0</td>\n",
       "      <td>1</td>\n",
       "      <td>0</td>\n",
       "      <td>0</td>\n",
       "      <td>1</td>\n",
       "      <td>0</td>\n",
       "      <td>0</td>\n",
       "      <td>1</td>\n",
       "    </tr>\n",
       "    <tr>\n",
       "      <th>4</th>\n",
       "      <td>0</td>\n",
       "      <td>1</td>\n",
       "      <td>0</td>\n",
       "      <td>1</td>\n",
       "      <td>0</td>\n",
       "      <td>0</td>\n",
       "      <td>0</td>\n",
       "      <td>1</td>\n",
       "      <td>0</td>\n",
       "      <td>1</td>\n",
       "      <td>0</td>\n",
       "      <td>0</td>\n",
       "      <td>0</td>\n",
       "      <td>1</td>\n",
       "      <td>0</td>\n",
       "      <td>0</td>\n",
       "      <td>0</td>\n",
       "      <td>1</td>\n",
       "    </tr>\n",
       "  </tbody>\n",
       "</table>\n",
       "</div>"
      ],
      "text/plain": [
       "   recency<0.33q  recency>0.66q  0.33q<=recency<=0.66q  lifetime<0.33q  \\\n",
       "0              0              0                      1               0   \n",
       "1              0              0                      1               1   \n",
       "2              0              0                      1               0   \n",
       "3              0              1                      0               0   \n",
       "4              0              1                      0               1   \n",
       "\n",
       "   lifetime>0.66q  0.33q<=lifetime<=0.66q  bigstoreshare<0.33q  \\\n",
       "0               1                       0                    0   \n",
       "1               0                       0                    0   \n",
       "2               1                       0                    0   \n",
       "3               0                       1                    0   \n",
       "4               0                       0                    0   \n",
       "\n",
       "   bigstoreshare>0.66q  0.33q<=bigstoreshare<=0.66q  sum0<0.33q  sum0>0.66q  \\\n",
       "0                    0                            1           0           0   \n",
       "1                    0                            1           0           1   \n",
       "2                    1                            0           0           1   \n",
       "3                    0                            1           0           0   \n",
       "4                    1                            0           1           0   \n",
       "\n",
       "   0.33q<=sum0<=0.66q  treatment  avgcart<0.33q  avgcart>0.66q  \\\n",
       "0                   1          0              1              0   \n",
       "1                   0          0              0              1   \n",
       "2                   0          0              0              1   \n",
       "3                   1          0              0              1   \n",
       "4                   0          0              1              0   \n",
       "\n",
       "   0.33q<=avgcart<=0.66q  y  z  \n",
       "0                      0  0  1  \n",
       "1                      0  1  0  \n",
       "2                      0  1  0  \n",
       "3                      0  0  1  \n",
       "4                      0  0  1  "
      ]
     },
     "execution_count": 9,
     "metadata": {},
     "output_type": "execute_result"
    }
   ],
   "source": [
    "prepared_data.head()"
   ]
  },
  {
   "cell_type": "code",
   "execution_count": null,
   "metadata": {},
   "outputs": [],
   "source": [
    "import pysubgroup as ps"
   ]
  },
  {
   "cell_type": "code",
   "execution_count": 36,
   "metadata": {},
   "outputs": [],
   "source": [
    "target = ps.NominalTarget('z',True)"
   ]
  },
  {
   "cell_type": "code",
   "execution_count": 33,
   "metadata": {},
   "outputs": [
    {
     "ename": "SyntaxError",
     "evalue": "invalid syntax (<ipython-input-33-4994f4f02d7e>, line 1)",
     "output_type": "error",
     "traceback": [
      "\u001b[1;36m  File \u001b[1;32m\"<ipython-input-33-4994f4f02d7e>\"\u001b[1;36m, line \u001b[1;32m1\u001b[0m\n\u001b[1;33m    import pysubgroup.subgroup.\u001b[0m\n\u001b[1;37m                               ^\u001b[0m\n\u001b[1;31mSyntaxError\u001b[0m\u001b[1;31m:\u001b[0m invalid syntax\n"
     ]
    }
   ],
   "source": [
    "import pysubgroup."
   ]
  },
  {
   "cell_type": "code",
   "execution_count": 39,
   "metadata": {},
   "outputs": [
    {
     "ename": "TypeError",
     "evalue": "plot_roc() missing 2 required positional arguments: 'result_df' and 'data'",
     "output_type": "error",
     "traceback": [
      "\u001b[1;31m---------------------------------------------------------------------------\u001b[0m",
      "\u001b[1;31mTypeError\u001b[0m                                 Traceback (most recent call last)",
      "\u001b[1;32m<ipython-input-39-9f71046898df>\u001b[0m in \u001b[0;36m<module>\u001b[1;34m\u001b[0m\n\u001b[1;32m----> 1\u001b[1;33m \u001b[0mps\u001b[0m\u001b[1;33m.\u001b[0m\u001b[0mvisualization\u001b[0m\u001b[1;33m.\u001b[0m\u001b[0mplot_roc\u001b[0m\u001b[1;33m(\u001b[0m\u001b[1;33m)\u001b[0m\u001b[1;33m\u001b[0m\u001b[1;33m\u001b[0m\u001b[0m\n\u001b[0m",
      "\u001b[1;31mTypeError\u001b[0m: plot_roc() missing 2 required positional arguments: 'result_df' and 'data'"
     ]
    }
   ],
   "source": []
  },
  {
   "cell_type": "code",
   "execution_count": 74,
   "metadata": {},
   "outputs": [],
   "source": [
    "ig = ['0.33q<=bigstoreshare<=0.66q','bigstoreshare<0.33q','lifetime>0.66q','lifetime<0.33q','0.33q<=lifetime<=0.66q','outcome','recency>0.66q','recency<0.33q','0.33q<=recency<=0.66q','0.33q<=sum0<=0.66q','sum0<0.33q','sum0>0.66q']"
   ]
  },
  {
   "cell_type": "code",
   "execution_count": 76,
   "metadata": {},
   "outputs": [],
   "source": [
    "target = ps.NominalTarget('z',True)\n",
    "searchspace = ps.create_selectors(prepared_data, ignore=['z','treatment','y'])\n",
    "task = ps.SubgroupDiscoveryTask (prepared_data, target, searchspace, \n",
    "            result_set_size=5, depth=2, qf=ps.boolean_target.WRAccQF(1))\n",
    "result = ps.SimpleDFS().execute(task)"
   ]
  },
  {
   "cell_type": "code",
   "execution_count": null,
   "metadata": {},
   "outputs": [],
   "source": []
  },
  {
   "cell_type": "code",
   "execution_count": 80,
   "metadata": {},
   "outputs": [
    {
     "name": "stdout",
     "output_type": "stream",
     "text": [
      "0.09531757870486812:\trecency>0.66q=0\n",
      "0.09465418050859556:\trecency>0.66q=0 AND sum0<0.33q=0\n",
      "0.08393023353576831:\trecency>0.66q=0 AND lifetime<0.33q=0\n",
      "0.07316049901857828:\tsum0<0.33q=0\n",
      "0.07275472771564709:\trecency>0.66q=0 AND avgcart<0.33q=0\n"
     ]
    }
   ],
   "source": [
    "for (q, sg) in result:\n",
    "    print(str(q) + \":\\t\" + str(sg.subgroup_description))"
   ]
  },
  {
   "cell_type": "code",
   "execution_count": 48,
   "metadata": {},
   "outputs": [
    {
     "ename": "TypeError",
     "evalue": "results_as_df() missing 1 required positional argument: 'result'",
     "output_type": "error",
     "traceback": [
      "\u001b[1;31m---------------------------------------------------------------------------\u001b[0m",
      "\u001b[1;31mTypeError\u001b[0m                                 Traceback (most recent call last)",
      "\u001b[1;32m<ipython-input-48-a6b12e35375c>\u001b[0m in \u001b[0;36m<module>\u001b[1;34m\u001b[0m\n\u001b[1;32m----> 1\u001b[1;33m \u001b[0mps\u001b[0m\u001b[1;33m.\u001b[0m\u001b[0mresults_as_df\u001b[0m\u001b[1;33m(\u001b[0m\u001b[0mresult\u001b[0m\u001b[1;33m)\u001b[0m\u001b[1;33m\u001b[0m\u001b[1;33m\u001b[0m\u001b[0m\n\u001b[0m",
      "\u001b[1;31mTypeError\u001b[0m: results_as_df() missing 1 required positional argument: 'result'"
     ]
    }
   ],
   "source": [
    "ps.results_as_df()"
   ]
  },
  {
   "cell_type": "code",
   "execution_count": 40,
   "metadata": {},
   "outputs": [
    {
     "ename": "TypeError",
     "evalue": "list indices must be integers or slices, not str",
     "output_type": "error",
     "traceback": [
      "\u001b[1;31m---------------------------------------------------------------------------\u001b[0m",
      "\u001b[1;31mTypeError\u001b[0m                                 Traceback (most recent call last)",
      "\u001b[1;32m<ipython-input-40-ad89b0a5b013>\u001b[0m in \u001b[0;36m<module>\u001b[1;34m\u001b[0m\n\u001b[1;32m----> 1\u001b[1;33m \u001b[0mps\u001b[0m\u001b[1;33m.\u001b[0m\u001b[0mvisualization\u001b[0m\u001b[1;33m.\u001b[0m\u001b[0mplot_roc\u001b[0m\u001b[1;33m(\u001b[0m\u001b[0mresult\u001b[0m\u001b[1;33m,\u001b[0m\u001b[0mprepared_data\u001b[0m\u001b[1;33m)\u001b[0m\u001b[1;33m\u001b[0m\u001b[1;33m\u001b[0m\u001b[0m\n\u001b[0m",
      "\u001b[1;32m~\\AppData\\Local\\Continuum\\anaconda3\\lib\\site-packages\\pysubgroup\\visualization.py\u001b[0m in \u001b[0;36mplot_roc\u001b[1;34m(result_df, data, qf, levels, annotate)\u001b[0m\n",
      "\u001b[1;31mTypeError\u001b[0m: list indices must be integers or slices, not str"
     ]
    }
   ],
   "source": [
    "ps.visualization.plot_roc(result,prepared_data)"
   ]
  },
  {
   "cell_type": "code",
   "execution_count": 59,
   "metadata": {},
   "outputs": [],
   "source": [
    "prepared_data.to_csv('/final_prepared_data')"
   ]
  },
  {
   "cell_type": "code",
   "execution_count": 122,
   "metadata": {},
   "outputs": [],
   "source": [
    "from sklearn.linear_model import LogisticRegression"
   ]
  },
  {
   "cell_type": "code",
   "execution_count": 123,
   "metadata": {},
   "outputs": [],
   "source": [
    "model = LogisticRegression()"
   ]
  },
  {
   "cell_type": "code",
   "execution_count": 205,
   "metadata": {},
   "outputs": [],
   "source": [
    "model1 = LogisticRegression()"
   ]
  },
  {
   "cell_type": "code",
   "execution_count": 206,
   "metadata": {},
   "outputs": [
    {
     "data": {
      "text/plain": [
       "LogisticRegression(C=1.0, class_weight=None, dual=False, fit_intercept=True,\n",
       "          intercept_scaling=1, max_iter=100, multi_class='warn',\n",
       "          n_jobs=None, penalty='l2', random_state=None, solver='warn',\n",
       "          tol=0.0001, verbose=0, warm_start=False)"
      ]
     },
     "execution_count": 206,
     "metadata": {},
     "output_type": "execute_result"
    }
   ],
   "source": [
    "from sklearn.linear_model import LogisticRegression\n",
    "model1 = LogisticRegression()\n",
    "model1.fit(prepared_data.drop(columns=['z','y']),prepared_data.y)\n",
    "model1.coef_[0]\n",
    "prepared_data.drop(columns=['z','y']).columns\n",
    "cols = prepared_data.columns\n",
    "coefs = pd.DataFrame(list(zip(np.abs(model.coef_[0]),cols[0])),columns=['value','column'])\n",
    "coefs.sort_values(by='value',ascending=False)"
   ]
  },
  {
   "cell_type": "code",
   "execution_count": 208,
   "metadata": {},
   "outputs": [
    {
     "data": {
      "text/plain": [
       "array([ 1.39025361, -1.47159993,  0.57240403, -0.07680717,  0.36764465,\n",
       "        0.20022023,  0.0991742 ,  0.15438838,  0.23749513, -0.68235077,\n",
       "        0.88788986,  0.28551862, -0.03920108,  0.19859444,  0.04147953,\n",
       "        0.25098374])"
      ]
     },
     "execution_count": 208,
     "metadata": {},
     "output_type": "execute_result"
    }
   ],
   "source": [
    "model1.coef_[0]"
   ]
  },
  {
   "cell_type": "code",
   "execution_count": 209,
   "metadata": {},
   "outputs": [
    {
     "data": {
      "text/plain": [
       "Index(['recency<0.33q', 'recency>0.66q', '0.33q<=recency<=0.66q',\n",
       "       'lifetime<0.33q', 'lifetime>0.66q', '0.33q<=lifetime<=0.66q',\n",
       "       'bigstoreshare<0.33q', 'bigstoreshare>0.66q',\n",
       "       '0.33q<=bigstoreshare<=0.66q', 'sum0<0.33q', 'sum0>0.66q',\n",
       "       '0.33q<=sum0<=0.66q', 'treatment', 'avgcart<0.33q', 'avgcart>0.66q',\n",
       "       '0.33q<=avgcart<=0.66q'],\n",
       "      dtype='object')"
      ]
     },
     "execution_count": 209,
     "metadata": {},
     "output_type": "execute_result"
    }
   ],
   "source": [
    "prepared_data.drop(columns=['z','y']).columns"
   ]
  },
  {
   "cell_type": "code",
   "execution_count": 130,
   "metadata": {},
   "outputs": [
    {
     "data": {
      "text/plain": [
       "Index(['recency<0.33q', 'recency>0.66q', '0.33q<=recency<=0.66q',\n",
       "       'lifetime<0.33q', 'lifetime>0.66q', '0.33q<=lifetime<=0.66q',\n",
       "       'bigstoreshare<0.33q', 'bigstoreshare>0.66q',\n",
       "       '0.33q<=bigstoreshare<=0.66q', 'sum0<0.33q', 'sum0>0.66q',\n",
       "       '0.33q<=sum0<=0.66q', 'treatment', 'avgcart<0.33q', 'avgcart>0.66q',\n",
       "       '0.33q<=avgcart<=0.66q', 'y', 'z'],\n",
       "      dtype='object')"
      ]
     },
     "execution_count": 130,
     "metadata": {},
     "output_type": "execute_result"
    }
   ],
   "source": [
    "prepared_data.columns"
   ]
  },
  {
   "cell_type": "code",
   "execution_count": 133,
   "metadata": {},
   "outputs": [],
   "source": [
    "cols = ['recency<0.33q', 'recency>0.66q', '0.33q<=recency<=0.66q',\n",
    "       'lifetime<0.33q', 'lifetime>0.66q', '0.33q<=lifetime<=0.66q',\n",
    "       'bigstoreshare<0.33q', 'bigstoreshare>0.66q',\n",
    "       '0.33q<=bigstoreshare<=0.66q', 'sum0<0.33q', 'sum0>0.66q',\n",
    "       '0.33q<=sum0<=0.66q', 'avgcart<0.33q', 'avgcart>0.66q',\n",
    "       '0.33q<=avgcart<=0.66q'],"
   ]
  },
  {
   "cell_type": "code",
   "execution_count": 175,
   "metadata": {},
   "outputs": [
    {
     "data": {
      "text/plain": [
       "array([0.72601085, 0.92963903, 0.46498381, 0.04716079, 0.21854338,\n",
       "       0.08997304, 0.04775852, 0.06042762, 0.1531695 , 0.38582825,\n",
       "       0.47738484, 0.16979904, 0.11722933, 0.00582706, 0.13829924])"
      ]
     },
     "execution_count": 175,
     "metadata": {},
     "output_type": "execute_result"
    }
   ],
   "source": [
    "np.abs(model.coef_[0])"
   ]
  },
  {
   "cell_type": "code",
   "execution_count": 176,
   "metadata": {},
   "outputs": [],
   "source": [
    "coefs = pd.DataFrame(list(zip(np.abs(model.coef_[0]),cols[0])),columns=['value','column'])"
   ]
  },
  {
   "cell_type": "code",
   "execution_count": 177,
   "metadata": {},
   "outputs": [
    {
     "data": {
      "text/html": [
       "<div>\n",
       "<style scoped>\n",
       "    .dataframe tbody tr th:only-of-type {\n",
       "        vertical-align: middle;\n",
       "    }\n",
       "\n",
       "    .dataframe tbody tr th {\n",
       "        vertical-align: top;\n",
       "    }\n",
       "\n",
       "    .dataframe thead th {\n",
       "        text-align: right;\n",
       "    }\n",
       "</style>\n",
       "<table border=\"1\" class=\"dataframe\">\n",
       "  <thead>\n",
       "    <tr style=\"text-align: right;\">\n",
       "      <th></th>\n",
       "      <th>value</th>\n",
       "      <th>column</th>\n",
       "    </tr>\n",
       "  </thead>\n",
       "  <tbody>\n",
       "    <tr>\n",
       "      <th>1</th>\n",
       "      <td>0.929639</td>\n",
       "      <td>recency&gt;0.66q</td>\n",
       "    </tr>\n",
       "    <tr>\n",
       "      <th>0</th>\n",
       "      <td>0.726011</td>\n",
       "      <td>recency&lt;0.33q</td>\n",
       "    </tr>\n",
       "    <tr>\n",
       "      <th>10</th>\n",
       "      <td>0.477385</td>\n",
       "      <td>sum0&gt;0.66q</td>\n",
       "    </tr>\n",
       "    <tr>\n",
       "      <th>2</th>\n",
       "      <td>0.464984</td>\n",
       "      <td>0.33q&lt;=recency&lt;=0.66q</td>\n",
       "    </tr>\n",
       "    <tr>\n",
       "      <th>9</th>\n",
       "      <td>0.385828</td>\n",
       "      <td>sum0&lt;0.33q</td>\n",
       "    </tr>\n",
       "    <tr>\n",
       "      <th>4</th>\n",
       "      <td>0.218543</td>\n",
       "      <td>lifetime&gt;0.66q</td>\n",
       "    </tr>\n",
       "    <tr>\n",
       "      <th>11</th>\n",
       "      <td>0.169799</td>\n",
       "      <td>0.33q&lt;=sum0&lt;=0.66q</td>\n",
       "    </tr>\n",
       "    <tr>\n",
       "      <th>8</th>\n",
       "      <td>0.153170</td>\n",
       "      <td>0.33q&lt;=bigstoreshare&lt;=0.66q</td>\n",
       "    </tr>\n",
       "    <tr>\n",
       "      <th>14</th>\n",
       "      <td>0.138299</td>\n",
       "      <td>0.33q&lt;=avgcart&lt;=0.66q</td>\n",
       "    </tr>\n",
       "    <tr>\n",
       "      <th>12</th>\n",
       "      <td>0.117229</td>\n",
       "      <td>avgcart&lt;0.33q</td>\n",
       "    </tr>\n",
       "    <tr>\n",
       "      <th>5</th>\n",
       "      <td>0.089973</td>\n",
       "      <td>0.33q&lt;=lifetime&lt;=0.66q</td>\n",
       "    </tr>\n",
       "    <tr>\n",
       "      <th>7</th>\n",
       "      <td>0.060428</td>\n",
       "      <td>bigstoreshare&gt;0.66q</td>\n",
       "    </tr>\n",
       "    <tr>\n",
       "      <th>6</th>\n",
       "      <td>0.047759</td>\n",
       "      <td>bigstoreshare&lt;0.33q</td>\n",
       "    </tr>\n",
       "    <tr>\n",
       "      <th>3</th>\n",
       "      <td>0.047161</td>\n",
       "      <td>lifetime&lt;0.33q</td>\n",
       "    </tr>\n",
       "    <tr>\n",
       "      <th>13</th>\n",
       "      <td>0.005827</td>\n",
       "      <td>avgcart&gt;0.66q</td>\n",
       "    </tr>\n",
       "  </tbody>\n",
       "</table>\n",
       "</div>"
      ],
      "text/plain": [
       "       value                       column\n",
       "1   0.929639                recency>0.66q\n",
       "0   0.726011                recency<0.33q\n",
       "10  0.477385                   sum0>0.66q\n",
       "2   0.464984        0.33q<=recency<=0.66q\n",
       "9   0.385828                   sum0<0.33q\n",
       "4   0.218543               lifetime>0.66q\n",
       "11  0.169799           0.33q<=sum0<=0.66q\n",
       "8   0.153170  0.33q<=bigstoreshare<=0.66q\n",
       "14  0.138299        0.33q<=avgcart<=0.66q\n",
       "12  0.117229                avgcart<0.33q\n",
       "5   0.089973       0.33q<=lifetime<=0.66q\n",
       "7   0.060428          bigstoreshare>0.66q\n",
       "6   0.047759          bigstoreshare<0.33q\n",
       "3   0.047161               lifetime<0.33q\n",
       "13  0.005827                avgcart>0.66q"
      ]
     },
     "execution_count": 177,
     "metadata": {},
     "output_type": "execute_result"
    }
   ],
   "source": [
    "coefs.sort_values(by='value',ascending=False)"
   ]
  },
  {
   "cell_type": "code",
   "execution_count": 126,
   "metadata": {},
   "outputs": [],
   "source": [
    "coef_values = []\n",
    "for i in model.coef_:\n",
    "    coef_values.append(i)"
   ]
  },
  {
   "cell_type": "code",
   "execution_count": null,
   "metadata": {},
   "outputs": [],
   "source": []
  },
  {
   "cell_type": "code",
   "execution_count": 96,
   "metadata": {},
   "outputs": [],
   "source": [
    "prepared_data.to_csv('final_data.csv', index=False) "
   ]
  }
 ],
 "metadata": {
  "kernelspec": {
   "display_name": "Python 3",
   "language": "python",
   "name": "python3"
  },
  "language_info": {
   "codemirror_mode": {
    "name": "ipython",
    "version": 3
   },
   "file_extension": ".py",
   "mimetype": "text/x-python",
   "name": "python",
   "nbconvert_exporter": "python",
   "pygments_lexer": "ipython3",
   "version": "3.7.1"
  }
 },
 "nbformat": 4,
 "nbformat_minor": 4
}
